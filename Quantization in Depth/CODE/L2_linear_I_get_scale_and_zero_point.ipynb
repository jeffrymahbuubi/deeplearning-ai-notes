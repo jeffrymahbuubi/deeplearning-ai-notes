{
 "cells": [
  {
   "cell_type": "markdown",
   "metadata": {},
   "source": [
    "# L2-B - Linear Quantization I: Get the Scale and Zero Point\n",
    "\n",
    "In this lesson, continue to learn about fundamentals of linear quantization, and implement your own Linear Quantizer."
   ]
  },
  {
   "cell_type": "markdown",
   "metadata": {},
   "source": [
    "Run the next cell to import all of the functions you have used before in the previous lesson(s) of `Linear Quantization I` to follow along with the video.\n",
    "\n",
    "- To access the `helper.py` file, you can click `File --> Open...`, on the top left."
   ]
  },
  {
   "cell_type": "code",
   "metadata": {
    "height": 200,
    "ExecuteTime": {
     "end_time": "2025-03-04T06:16:29.604188Z",
     "start_time": "2025-03-04T06:16:23.851159Z"
    }
   },
   "source": [
    "import torch\n",
    "\n",
    "from helper import linear_q_with_scale_and_zero_point, linear_dequantization, plot_quantization_errors\n",
    "\n",
    "### a dummy tensor to test the implementation\n",
    "test_tensor=torch.tensor(\n",
    "    [[191.6, -13.5, 728.6],\n",
    "     [92.14, 295.5,  -184],\n",
    "     [0,     684.6, 245.5]]\n",
    ")"
   ],
   "outputs": [],
   "execution_count": 1
  },
  {
   "cell_type": "markdown",
   "metadata": {
    "id": "dpKLMdCYvT_W"
   },
   "source": [
    "## Finding `Scale` and `Zero Point` for Quantization"
   ]
  },
  {
   "cell_type": "code",
   "metadata": {
    "height": 47,
    "ExecuteTime": {
     "end_time": "2025-03-04T06:20:32.028639Z",
     "start_time": "2025-03-04T06:20:32.019124Z"
    }
   },
   "source": [
    "q_min = torch.iinfo(torch.int8).min\n",
    "q_max = torch.iinfo(torch.int8).max"
   ],
   "outputs": [],
   "execution_count": 3
  },
  {
   "cell_type": "code",
   "metadata": {
    "height": 30,
    "ExecuteTime": {
     "end_time": "2025-03-04T06:20:32.574803Z",
     "start_time": "2025-03-04T06:20:32.551209Z"
    }
   },
   "source": [
    "q_min"
   ],
   "outputs": [
    {
     "data": {
      "text/plain": [
       "-128"
      ]
     },
     "execution_count": 4,
     "metadata": {},
     "output_type": "execute_result"
    }
   ],
   "execution_count": 4
  },
  {
   "cell_type": "code",
   "metadata": {
    "height": 30,
    "ExecuteTime": {
     "end_time": "2025-03-04T06:20:33.245261Z",
     "start_time": "2025-03-04T06:20:33.236105Z"
    }
   },
   "source": [
    "q_max"
   ],
   "outputs": [
    {
     "data": {
      "text/plain": [
       "127"
      ]
     },
     "execution_count": 5,
     "metadata": {},
     "output_type": "execute_result"
    }
   ],
   "execution_count": 5
  },
  {
   "cell_type": "code",
   "metadata": {
    "height": 47,
    "ExecuteTime": {
     "end_time": "2025-03-04T06:20:34.071837Z",
     "start_time": "2025-03-04T06:20:34.061299Z"
    }
   },
   "source": [
    "# r_min = test_tensor.min()\n",
    "r_min = test_tensor.min().item()"
   ],
   "outputs": [],
   "execution_count": 6
  },
  {
   "cell_type": "code",
   "metadata": {
    "height": 30,
    "ExecuteTime": {
     "end_time": "2025-03-04T06:20:35.125144Z",
     "start_time": "2025-03-04T06:20:35.113587Z"
    }
   },
   "source": [
    "r_min"
   ],
   "outputs": [
    {
     "data": {
      "text/plain": [
       "-184.0"
      ]
     },
     "execution_count": 7,
     "metadata": {},
     "output_type": "execute_result"
    }
   ],
   "execution_count": 7
  },
  {
   "cell_type": "code",
   "metadata": {
    "height": 30,
    "ExecuteTime": {
     "end_time": "2025-03-04T06:20:35.966565Z",
     "start_time": "2025-03-04T06:20:35.951819Z"
    }
   },
   "source": [
    "r_max = test_tensor.max().item()"
   ],
   "outputs": [],
   "execution_count": 8
  },
  {
   "cell_type": "code",
   "metadata": {
    "height": 30,
    "ExecuteTime": {
     "end_time": "2025-03-04T06:20:36.764338Z",
     "start_time": "2025-03-04T06:20:36.744283Z"
    }
   },
   "source": [
    "r_max"
   ],
   "outputs": [
    {
     "data": {
      "text/plain": [
       "728.5999755859375"
      ]
     },
     "execution_count": 9,
     "metadata": {},
     "output_type": "execute_result"
    }
   ],
   "execution_count": 9
  },
  {
   "cell_type": "code",
   "metadata": {
    "height": 30,
    "ExecuteTime": {
     "end_time": "2025-03-04T06:20:41.920547Z",
     "start_time": "2025-03-04T06:20:41.911335Z"
    }
   },
   "source": [
    "scale = (r_max - r_min) / (q_max - q_min)"
   ],
   "outputs": [],
   "execution_count": 10
  },
  {
   "cell_type": "code",
   "metadata": {
    "height": 30,
    "ExecuteTime": {
     "end_time": "2025-03-04T06:20:42.748420Z",
     "start_time": "2025-03-04T06:20:42.725391Z"
    }
   },
   "source": [
    "scale"
   ],
   "outputs": [
    {
     "data": {
      "text/plain": [
       "3.578823433670343"
      ]
     },
     "execution_count": 11,
     "metadata": {},
     "output_type": "execute_result"
    }
   ],
   "execution_count": 11
  },
  {
   "cell_type": "code",
   "metadata": {
    "height": 30,
    "ExecuteTime": {
     "end_time": "2025-03-04T06:20:44.717816Z",
     "start_time": "2025-03-04T06:20:44.708175Z"
    }
   },
   "source": [
    "zero_point = q_min - (r_min / scale)"
   ],
   "outputs": [],
   "execution_count": 12
  },
  {
   "cell_type": "code",
   "metadata": {
    "height": 30,
    "ExecuteTime": {
     "end_time": "2025-03-04T06:20:45.262321Z",
     "start_time": "2025-03-04T06:20:45.248764Z"
    }
   },
   "source": [
    "zero_point"
   ],
   "outputs": [
    {
     "data": {
      "text/plain": [
       "-76.58645490333825"
      ]
     },
     "execution_count": 13,
     "metadata": {},
     "output_type": "execute_result"
    }
   ],
   "execution_count": 13
  },
  {
   "cell_type": "code",
   "metadata": {
    "height": 30,
    "ExecuteTime": {
     "end_time": "2025-03-04T06:20:47.365474Z",
     "start_time": "2025-03-04T06:20:47.346423Z"
    }
   },
   "source": [
    "zero_point = int(round(zero_point))"
   ],
   "outputs": [],
   "execution_count": 14
  },
  {
   "cell_type": "code",
   "metadata": {
    "height": 30,
    "ExecuteTime": {
     "end_time": "2025-03-04T06:20:48.206951Z",
     "start_time": "2025-03-04T06:20:48.196445Z"
    }
   },
   "source": [
    "zero_point"
   ],
   "outputs": [
    {
     "data": {
      "text/plain": [
       "-77"
      ]
     },
     "execution_count": 15,
     "metadata": {},
     "output_type": "execute_result"
    }
   ],
   "execution_count": 15
  },
  {
   "cell_type": "markdown",
   "metadata": {},
   "source": [
    "- Now, put all of this in a function."
   ]
  },
  {
   "metadata": {},
   "cell_type": "markdown",
   "source": [
    "## Scale and Zero Point\n",
    "\n",
    "Linear quantization maps the floating point range $[r_{\\min}, r_{\\max}]$ to the quantized range $[q_{\\min}, q_{\\max}]$\n",
    "\n",
    "If we look at the **extreme values**, we should get:\n",
    "\n",
    "$$\n",
    "\\begin{cases} \n",
    "r_{\\min} = s (q_{\\min} - z) \\\\\n",
    "r_{\\max} = s (q_{\\max} - z)\n",
    "\\end{cases}\n",
    "$$\n",
    "\n",
    "If we subtract the first equation from the second one, we get the **scale** $s$:\n",
    "\n",
    "$$\n",
    "s = \\frac{(r_{\\max} - r_{\\min})}{(q_{\\max} - q_{\\min})}\n",
    "$$\n",
    "\n",
    "For the **zero point** $z$, we need to round the value since it is an $n$-bit integer:\n",
    "\n",
    "$$\n",
    "z = \\text{int} \\left( \\text{round} \\left( q_{\\min} - \\frac{r_{\\min}}{s} \\right) \\right)\n",
    "$$\n"
   ]
  },
  {
   "metadata": {},
   "cell_type": "markdown",
   "source": [
    "### (Optional) Scale Derivation\n",
    "\n",
    "$$\n",
    "\\begin{cases} \n",
    "r_{\\min} = s(q_{\\min} - z) \\\\\n",
    "r_{\\max} = s(q_{\\max} - z)\n",
    "\\end{cases}\n",
    "$$\n",
    "\n",
    "$$r_{\\min} - r_{\\max} = s(q_{\\min} - z) - s(q_{\\max} - z)$$\n",
    "\n",
    "$$= s \\left( (q_{\\min} - z) - (q_{\\max} - z) \\right)$$\n",
    "\n",
    "$$= s \\left( (q_{\\min} - q_{\\max} - z + z) \\right)$$\n",
    "\n",
    "$$= s (q_{\\min} - q_{\\max})$$\n",
    "\n",
    "$$\\frac{r_{\\min} - r_{\\max}}{q_{\\min} - q_{\\max}} = s$$"
   ]
  },
  {
   "metadata": {},
   "cell_type": "markdown",
   "source": [
    "### (Optional) Zero Point Derivation\n",
    "\n",
    "$$\n",
    "\\begin{cases} \n",
    "r_{\\min} = s(q_{\\min} - z) \\\\\n",
    "r_{\\max} = s(q_{\\max} - z)\n",
    "\\end{cases}\n",
    "$$\n",
    "\n",
    "$$r_{\\min} = s(q_{\\min} - z)$$\n",
    "\n",
    "$$r_{\\min} = s q_{\\min} - s z$$\n",
    "\n",
    "$$s z = s q_{\\min} - r_{\\min}$$\n",
    "\n",
    "$$z = \\frac{s q_{\\min} - r_{\\min}}{s}$$\n",
    "\n",
    "$$z = q_{\\min} - \\frac{r_{\\min}}{s}$$\n",
    "\n",
    "$$z = \\text{int} \\left( \\text{round} \\left( q_{\\min} - \\frac{r_{\\min}}{s} \\right) \\right)$$\n"
   ]
  },
  {
   "cell_type": "code",
   "metadata": {
    "height": 336,
    "id": "l1IRM2eazm7o",
    "ExecuteTime": {
     "end_time": "2025-03-04T06:22:31.224482Z",
     "start_time": "2025-03-04T06:22:31.205651Z"
    }
   },
   "source": [
    "def get_q_scale_and_zero_point(tensor, dtype=torch.int8):\n",
    "    \n",
    "    q_min, q_max = torch.iinfo(dtype).min, torch.iinfo(dtype).max\n",
    "    r_min, r_max = tensor.min().item(), tensor.max().item()\n",
    "\n",
    "    scale = (r_max - r_min) / (q_max - q_min)\n",
    "\n",
    "    zero_point = q_min - (r_min / scale)\n",
    "\n",
    "    # clip the zero_point to fall in [quantized_min, quantized_max]\n",
    "    if zero_point < q_min:\n",
    "        zero_point = q_min\n",
    "    elif zero_point > q_max:\n",
    "        zero_point = q_max\n",
    "    else:\n",
    "        # round and cast to int\n",
    "        zero_point = int(round(zero_point))\n",
    "    \n",
    "    return scale, zero_point"
   ],
   "outputs": [],
   "execution_count": 16
  },
  {
   "cell_type": "markdown",
   "metadata": {},
   "source": [
    "- Test the implementation using the `test_tensor` defined earlier.\n",
    "```Python\n",
    "[[191.6, -13.5, 728.6],\n",
    " [92.14, 295.5,  -184],\n",
    " [0,     684.6, 245.5]]\n",
    "```"
   ]
  },
  {
   "cell_type": "code",
   "metadata": {
    "height": 47,
    "id": "Us4-c4nnR2Ln",
    "ExecuteTime": {
     "end_time": "2025-03-04T06:22:32.865961Z",
     "start_time": "2025-03-04T06:22:32.851274Z"
    }
   },
   "source": [
    "new_scale, new_zero_point = get_q_scale_and_zero_point(\n",
    "    test_tensor)"
   ],
   "outputs": [],
   "execution_count": 17
  },
  {
   "cell_type": "code",
   "metadata": {
    "colab": {
     "base_uri": "https://localhost:8080/"
    },
    "height": 30,
    "id": "9XA1_C8OUTVv",
    "outputId": "63eedcd1-c56b-444f-8812-baa19c5dc642",
    "ExecuteTime": {
     "end_time": "2025-03-04T06:22:34.273816Z",
     "start_time": "2025-03-04T06:22:34.262663Z"
    }
   },
   "source": [
    "new_scale"
   ],
   "outputs": [
    {
     "data": {
      "text/plain": [
       "3.578823433670343"
      ]
     },
     "execution_count": 18,
     "metadata": {},
     "output_type": "execute_result"
    }
   ],
   "execution_count": 18
  },
  {
   "cell_type": "code",
   "metadata": {
    "colab": {
     "base_uri": "https://localhost:8080/"
    },
    "height": 30,
    "id": "vC4QxI2jUUSe",
    "outputId": "5e8cde8e-6536-4db5-d1a8-b6660db4a755",
    "ExecuteTime": {
     "end_time": "2025-03-04T06:22:35.488807Z",
     "start_time": "2025-03-04T06:22:35.473212Z"
    }
   },
   "source": [
    "new_zero_point"
   ],
   "outputs": [
    {
     "data": {
      "text/plain": [
       "-77"
      ]
     },
     "execution_count": 19,
     "metadata": {},
     "output_type": "execute_result"
    }
   ],
   "execution_count": 19
  },
  {
   "cell_type": "markdown",
   "metadata": {},
   "source": [
    "## Quantization and Dequantization with Calculated `Scale` and `Zero Point`\n",
    "\n",
    "- Use the calculated `scale` and `zero_point` with the functions `linear_q_with_scale_and_zero_point` and `linear_dequantization`."
   ]
  },
  {
   "cell_type": "code",
   "metadata": {
    "colab": {
     "base_uri": "https://localhost:8080/",
     "height": 425
    },
    "height": 47,
    "id": "C9MtUUysR6oH",
    "outputId": "4d6d769c-8db8-4f1c-c9d8-a3393e937c73",
    "ExecuteTime": {
     "end_time": "2025-03-04T06:22:42.166811Z",
     "start_time": "2025-03-04T06:22:42.160786Z"
    }
   },
   "source": [
    "quantized_tensor = linear_q_with_scale_and_zero_point(\n",
    "    test_tensor, new_scale, new_zero_point)"
   ],
   "outputs": [],
   "execution_count": 20
  },
  {
   "cell_type": "code",
   "metadata": {
    "height": 47,
    "ExecuteTime": {
     "end_time": "2025-03-04T06:22:42.667113Z",
     "start_time": "2025-03-04T06:22:42.651094Z"
    }
   },
   "source": [
    "dequantized_tensor = linear_dequantization(quantized_tensor,\n",
    "                                           new_scale, new_zero_point)"
   ],
   "outputs": [],
   "execution_count": 21
  },
  {
   "cell_type": "markdown",
   "metadata": {},
   "source": [
    "- Plot to see how the Quantization Error looks like after using calculated `scale` and `zero_point`."
   ]
  },
  {
   "cell_type": "code",
   "metadata": {
    "height": 47,
    "ExecuteTime": {
     "end_time": "2025-03-04T06:22:45.160608Z",
     "start_time": "2025-03-04T06:22:43.992516Z"
    }
   },
   "source": [
    "plot_quantization_errors(test_tensor, quantized_tensor, \n",
    "                         dequantized_tensor)"
   ],
   "outputs": [
    {
     "data": {
      "text/plain": [
       "<Figure size 1500x400 with 4 Axes>"
      ],
      "image/png": "[encoded data removed]"
     },
     "metadata": {},
     "output_type": "display_data"
    }
   ],
   "execution_count": 22
  },
  {
   "cell_type": "code",
   "metadata": {
    "height": 30,
    "ExecuteTime": {
     "end_time": "2025-03-04T06:22:46.623405Z",
     "start_time": "2025-03-04T06:22:46.605826Z"
    }
   },
   "source": [
    "(dequantized_tensor-test_tensor).square().mean()"
   ],
   "outputs": [
    {
     "data": {
      "text/plain": [
       "tensor(1.5730)"
      ]
     },
     "execution_count": 23,
     "metadata": {},
     "output_type": "execute_result"
    }
   ],
   "execution_count": 23
  },
  {
   "cell_type": "markdown",
   "metadata": {
    "id": "vYJxLMakItHX"
   },
   "source": [
    "### Put Everything Together: Your Own Linear Quantizer\n",
    "\n",
    "- Now, put everything togther to make your own Linear Quantizer."
   ]
  },
  {
   "cell_type": "code",
   "metadata": {
    "height": 183,
    "id": "wWJWsvcYTGQc",
    "ExecuteTime": {
     "end_time": "2025-03-04T06:24:04.132713Z",
     "start_time": "2025-03-04T06:24:04.111033Z"
    }
   },
   "source": [
    "def linear_quantization(tensor, dtype=torch.int8):\n",
    "    scale, zero_point = get_q_scale_and_zero_point(tensor, \n",
    "                                                   dtype=dtype)\n",
    "    \n",
    "    quantized_tensor = linear_q_with_scale_and_zero_point(tensor,\n",
    "                                                          scale, \n",
    "                                                          zero_point, \n",
    "                                                          dtype=dtype)\n",
    "    \n",
    "    return quantized_tensor, scale , zero_point"
   ],
   "outputs": [],
   "execution_count": 25
  },
  {
   "cell_type": "markdown",
   "metadata": {
    "id": "qC0X9ux6JEmi"
   },
   "source": [
    "- Test your implementation on a random matrix."
   ]
  },
  {
   "cell_type": "code",
   "metadata": {
    "colab": {
     "base_uri": "https://localhost:8080/",
     "height": 425
    },
    "height": 30,
    "id": "QxWC2JPbIkS7",
    "outputId": "b583d611-c00c-4ac7-b2ae-10e83f2d295a",
    "ExecuteTime": {
     "end_time": "2025-03-04T06:24:05.396608Z",
     "start_time": "2025-03-04T06:24:05.361206Z"
    }
   },
   "source": [
    "r_tensor = torch.randn((4, 4))"
   ],
   "outputs": [],
   "execution_count": 26
  },
  {
   "cell_type": "markdown",
   "metadata": {},
   "source": [
    "**Note:** Since the values are random, what you see in the video might be different than what you will get."
   ]
  },
  {
   "cell_type": "code",
   "metadata": {
    "height": 30,
    "ExecuteTime": {
     "end_time": "2025-03-04T06:24:11.042579Z",
     "start_time": "2025-03-04T06:24:11.014797Z"
    }
   },
   "source": [
    "r_tensor"
   ],
   "outputs": [
    {
     "data": {
      "text/plain": [
       "tensor([[ 0.4259,  0.4345, -0.7652,  0.7941],\n",
       "        [ 0.2357, -0.5532, -1.1529,  1.9366],\n",
       "        [ 0.5518, -0.3398,  0.8595, -1.1166],\n",
       "        [-1.3829, -0.5637, -0.3474,  2.2474]])"
      ]
     },
     "execution_count": 27,
     "metadata": {},
     "output_type": "execute_result"
    }
   ],
   "execution_count": 27
  },
  {
   "cell_type": "code",
   "metadata": {
    "height": 30,
    "ExecuteTime": {
     "end_time": "2025-03-04T06:24:11.837605Z",
     "start_time": "2025-03-04T06:24:11.818973Z"
    }
   },
   "source": [
    "quantized_tensor, scale, zero_point = linear_quantization(r_tensor)"
   ],
   "outputs": [],
   "execution_count": 28
  },
  {
   "cell_type": "code",
   "metadata": {
    "height": 30,
    "ExecuteTime": {
     "end_time": "2025-03-04T06:24:12.631163Z",
     "start_time": "2025-03-04T06:24:12.612610Z"
    }
   },
   "source": [
    "quantized_tensor"
   ],
   "outputs": [
    {
     "data": {
      "text/plain": [
       "tensor([[  -1,    0,  -85,   25],\n",
       "        [ -14,  -70, -112,  105],\n",
       "        [   8,  -55,   29, -109],\n",
       "        [-128,  -71,  -55,  127]], dtype=torch.int8)"
      ]
     },
     "execution_count": 29,
     "metadata": {},
     "output_type": "execute_result"
    }
   ],
   "execution_count": 29
  },
  {
   "cell_type": "code",
   "metadata": {
    "height": 30,
    "ExecuteTime": {
     "end_time": "2025-03-04T06:24:13.330424Z",
     "start_time": "2025-03-04T06:24:13.320894Z"
    }
   },
   "source": [
    "scale"
   ],
   "outputs": [
    {
     "data": {
      "text/plain": [
       "0.01423623935849059"
      ]
     },
     "execution_count": 30,
     "metadata": {},
     "output_type": "execute_result"
    }
   ],
   "execution_count": 30
  },
  {
   "cell_type": "code",
   "metadata": {
    "height": 30,
    "ExecuteTime": {
     "end_time": "2025-03-04T06:24:14.097443Z",
     "start_time": "2025-03-04T06:24:14.080656Z"
    }
   },
   "source": [
    "zero_point"
   ],
   "outputs": [
    {
     "data": {
      "text/plain": [
       "-31"
      ]
     },
     "execution_count": 31,
     "metadata": {},
     "output_type": "execute_result"
    }
   ],
   "execution_count": 31
  },
  {
   "cell_type": "code",
   "metadata": {
    "height": 47,
    "ExecuteTime": {
     "end_time": "2025-03-04T06:24:14.819502Z",
     "start_time": "2025-03-04T06:24:14.810986Z"
    }
   },
   "source": [
    "dequantized_tensor = linear_dequantization(quantized_tensor,\n",
    "                                           scale, zero_point)"
   ],
   "outputs": [],
   "execution_count": 32
  },
  {
   "cell_type": "code",
   "metadata": {
    "height": 47,
    "ExecuteTime": {
     "end_time": "2025-03-04T06:24:16.919381Z",
     "start_time": "2025-03-04T06:24:15.400196Z"
    }
   },
   "source": [
    "plot_quantization_errors(r_tensor, quantized_tensor,\n",
    "                         dequantized_tensor)"
   ],
   "outputs": [
    {
     "data": {
      "text/plain": [
       "<Figure size 1500x400 with 4 Axes>"
      ],
      "image/png": "[encoded data removed]"
     },
     "metadata": {},
     "output_type": "display_data"
    }
   ],
   "execution_count": 33
  },
  {
   "cell_type": "code",
   "metadata": {
    "height": 30,
    "ExecuteTime": {
     "end_time": "2025-03-04T06:24:17.886434Z",
     "start_time": "2025-03-04T06:24:17.874871Z"
    }
   },
   "source": [
    "(dequantized_tensor-r_tensor).square().mean()"
   ],
   "outputs": [
    {
     "data": {
      "text/plain": [
       "tensor(1.6904e-05)"
      ]
     },
     "execution_count": 34,
     "metadata": {},
     "output_type": "execute_result"
    }
   ],
   "execution_count": 34
  },
  {
   "cell_type": "code",
   "execution_count": null,
   "metadata": {
    "height": 30
   },
   "outputs": [],
   "source": []
  },
  {
   "cell_type": "code",
   "execution_count": null,
   "metadata": {
    "height": 30
   },
   "outputs": [],
   "source": []
  }
 ],
 "metadata": {
  "colab": {
   "collapsed_sections": [
    "kd9Q2SD0MJGw",
    "E1palk4uRQX9",
    "oAexFpXiX1PW",
    "ChnEqFPYMn3p",
    "MFx2m7RmzRd5",
    "LbPjb9OOi0Xp",
    "6WopWDYWQr7X",
    "LYfTqh_VMTzT",
    "4YZP-9XTNkur",
    "dpKLMdCYvT_W",
    "2hoC5tcJznoI",
    "S68UGldKRnJc",
    "Y4Qfalu9vtHv",
    "WJN9IfVLTFNd",
    "qC0X9ux6JEmi",
    "AkwpMs-C5ccj",
    "EDpd5Te632KY",
    "JA1-rcLz4t4D",
    "kROAEGfdDsau",
    "oo4BCLpsDw3t",
    "h2gK-eALFc8U",
    "yDin7Rm6Dzqu",
    "X6J9ZiyHWzHa",
    "qUw1gQUu5yIe",
    "vGll7vBT6BGI",
    "Cl3AUuDuAH5w",
    "8NS1TnQt6E6v",
    "vcRy85lACotg"
   ],
   "provenance": []
  },
  "kernelspec": {
   "display_name": "Python 3 (ipykernel)",
   "language": "python",
   "name": "python3"
  },
  "language_info": {
   "codemirror_mode": {
    "name": "ipython",
    "version": 3
   },
   "file_extension": ".py",
   "mimetype": "text/x-python",
   "name": "python",
   "nbconvert_exporter": "python",
   "pygments_lexer": "ipython3",
   "version": "3.11.9"
  }
 },
 "nbformat": 4,
 "nbformat_minor": 4
}
